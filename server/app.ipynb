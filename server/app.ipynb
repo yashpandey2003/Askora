{
 "cells": [
  {
   "cell_type": "code",
   "execution_count": 2,
   "id": "71dd8d82",
   "metadata": {},
   "outputs": [],
   "source": [
    "from typing import TypedDict, Annotated, Optional\n",
    "from langgraph.graph import add_messages, StateGraph, END\n",
    "from langchain_groq import ChatGroq\n",
    "from dotenv import load_dotenv\n",
    "from langchain_community.tools.tavily_search import TavilySearchResults\n",
    "from langgraph.checkpoint.memory import MemorySaver\n",
    "from uuid import uuid4\n"
   ]
  },
  {
   "cell_type": "code",
   "execution_count": 3,
   "id": "1a0d62cf",
   "metadata": {},
   "outputs": [],
   "source": [
    "load_dotenv()\n",
    "llm = ChatGroq(model=\"openai/gpt-oss-120b\")"
   ]
  },
  {
   "cell_type": "code",
   "execution_count": 4,
   "id": "b58a080a",
   "metadata": {},
   "outputs": [
    {
     "name": "stderr",
     "output_type": "stream",
     "text": [
      "C:\\Users\\Yash pandey\\AppData\\Local\\Temp\\ipykernel_18628\\207660265.py:1: LangChainDeprecationWarning: The class `TavilySearchResults` was deprecated in LangChain 0.3.25 and will be removed in 1.0. An updated version of the class exists in the :class:`~langchain-tavily package and should be used instead. To use it run `pip install -U :class:`~langchain-tavily` and import as `from :class:`~langchain_tavily import TavilySearch``.\n",
      "  search_tool = TavilySearchResults(max_results=4)\n"
     ]
    }
   ],
   "source": [
    "search_tool = TavilySearchResults(max_results=4)\n",
    "tools = [search_tool]\n",
    "\n",
    "memory = MemorySaver()\n",
    "\n",
    "llm_with_tools = llm.bind_tools(tools = tools)\n"
   ]
  },
  {
   "cell_type": "code",
   "execution_count": 5,
   "id": "dc219dc3",
   "metadata": {},
   "outputs": [],
   "source": [
    "from langchain_core.messages import AIMessage, HumanMessage, ToolMessage\n",
    "\n",
    "class State(TypedDict):\n",
    "    messages: Annotated[list, add_messages]\n",
    "\n",
    "async def model(state: State):\n",
    "    result = await llm_with_tools.ainvoke(state[\"messages\"])\n",
    "    return{\n",
    "        \"messages\":[result],\n",
    "    }\n",
    "\n",
    "async def tools_router(state: State):\n",
    "    last_message = state[\"messages\"][-1]\n",
    "\n",
    "    if hasattr(last_message, \"tool_calls\") and len(last_message.tool_calls) > 0:\n",
    "        return \"tool_node\"\n",
    "    else:\n",
    "        return END\n",
    "\n",
    "async def tool_node(state):\n",
    "    \"\"\"Custom tool node that handles tool calls from the LLM.\"\"\"\n",
    "\n",
    "    tool_calls = state[\"messages\"][-1].tool_calls\n",
    "\n",
    "    tool_messages = []\n",
    "    for tool_call in tool_calls:\n",
    "        tool_name = tool_call[\"name\"]\n",
    "        tool_args = tool_call[\"args\"]\n",
    "        tool_id = tool_call[\"id\"]\n",
    "\n",
    "        if tool_name==\"tavily_search_results_json\":\n",
    "            search_results = await search_tool.ainvoke(tool_args)\n",
    "\n",
    "            tool_message = ToolMessage(\n",
    "                content = str(search_results),\n",
    "                tool_call_id = tool_id,\n",
    "                name = tool_name\n",
    "            )\n",
    "            tool_messages.append(tool_message)\n",
    "\n",
    "    return {\"messages\": tool_messages}\n",
    "\n",
    "\n",
    "graph_builder = StateGraph(State)\n",
    "graph_builder.add_node(\"model\", model)\n",
    "graph_builder.add_node(\"tool_node\", tool_node)\n",
    "graph_builder.set_entry_point(\"model\")\n",
    "\n",
    "graph_builder.add_conditional_edges(\"model\", tools_router)\n",
    "graph_builder.add_edge(\"tool_node\", \"model\")\n",
    "\n",
    "graph = graph_builder.compile(checkpointer=memory)\n",
    "\n",
    "\n",
    "\n"
   ]
  },
  {
   "cell_type": "code",
   "execution_count": 6,
   "id": "50086cca",
   "metadata": {},
   "outputs": [
    {
     "data": {
      "image/png": "[encoded data removed]",
      "text/plain": [
       "<IPython.core.display.Image object>"
      ]
     },
     "metadata": {},
     "output_type": "display_data"
    }
   ],
   "source": [
    "from IPython.display import Image, display\n",
    "from langchain_core.runnables.graph import MermaidDrawMethod\n",
    "\n",
    "display(\n",
    "    Image(\n",
    "        graph.get_graph().draw_mermaid_png(\n",
    "            draw_method=MermaidDrawMethod.API\n",
    "        )\n",
    "    )\n",
    ")"
   ]
  },
  {
   "cell_type": "code",
   "execution_count": 9,
   "id": "a32747ea",
   "metadata": {},
   "outputs": [
    {
     "data": {
      "text/plain": [
       "{'messages': [HumanMessage(content='Where is AI city is going to built in India?', additional_kwargs={}, response_metadata={}, id='f6323b05-1eda-4f42-8003-b26c9b55188f'),\n",
       "  AIMessage(content='', additional_kwargs={'reasoning_content': 'The user asks: \"Where is AI city is going to built in India?\" They likely refer to an \"AI City\" project. Need to find location. Use search.', 'tool_calls': [{'id': 'fc_d9b04a86-4b72-4244-aff4-9edd7bc4bd42', 'function': {'arguments': '{\"query\":\"AI City India location where will be built\"}', 'name': 'tavily_search_results_json'}, 'type': 'function'}]}, response_metadata={'token_usage': {'completion_tokens': 74, 'prompt_tokens': 165, 'total_tokens': 239, 'completion_time': 0.14728129, 'prompt_time': 0.00595056, 'queue_time': 0.046884838, 'total_time': 0.15323185}, 'model_name': 'openai/gpt-oss-120b', 'system_fingerprint': 'fp_ed9190d8b7', 'service_tier': 'on_demand', 'finish_reason': 'tool_calls', 'logprobs': None}, id='run--7d6ab2a3-6f3e-4c06-9a44-9827c707b020-0', tool_calls=[{'name': 'tavily_search_results_json', 'args': {'query': 'AI City India location where will be built'}, 'id': 'fc_d9b04a86-4b72-4244-aff4-9edd7bc4bd42', 'type': 'tool_call'}], usage_metadata={'input_tokens': 165, 'output_tokens': 74, 'total_tokens': 239}),\n",
       "  HumanMessage(content='Where is AI city is going to built in India?', additional_kwargs={}, response_metadata={}, id='58d31961-7901-4717-be36-4e21c2573e6d'),\n",
       "  AIMessage(content='', additional_kwargs={'reasoning_content': 'The user asks: \"Where is AI city is going to built in India?\" Likely refers to an AI city project in India, maybe \"AI City\" in Gujarat, \"AI City\" in Hyderabad, \"AI City\" in Karnataka? Let\\'s search.', 'tool_calls': [{'id': 'fc_23c2f210-6a09-4274-9eb2-f9bfc5046429', 'function': {'arguments': '{\"query\":\"AI City India project location\"}', 'name': 'tavily_search_results_json'}, 'type': 'function'}]}, response_metadata={'token_usage': {'completion_tokens': 88, 'prompt_tokens': 207, 'total_tokens': 295, 'completion_time': 0.174992138, 'prompt_time': 0.007759405, 'queue_time': 0.046705963, 'total_time': 0.182751543}, 'model_name': 'openai/gpt-oss-120b', 'system_fingerprint': 'fp_ed9190d8b7', 'service_tier': 'on_demand', 'finish_reason': 'tool_calls', 'logprobs': None}, id='run--d3b74a08-d52f-4659-af03-42dc617e88b9-0', tool_calls=[{'name': 'tavily_search_results_json', 'args': {'query': 'AI City India project location'}, 'id': 'fc_23c2f210-6a09-4274-9eb2-f9bfc5046429', 'type': 'tool_call'}], usage_metadata={'input_tokens': 207, 'output_tokens': 88, 'total_tokens': 295}),\n",
       "  HumanMessage(content='Where is AI city is going to built in India?', additional_kwargs={}, response_metadata={}, id='b0305c71-fecc-42f5-82d8-aaa60d6bfac8'),\n",
       "  AIMessage(content='', additional_kwargs={'reasoning_content': 'The user asks: \"Where is AI city is going to built in India?\" Likely referring to a planned AI city in India. There have been news about \"AI City\" by the Indian government or some state. I recall \"AI City\" being a project in Gujarat? Or maybe \"AI City\" by NITI Aayog? Let\\'s search.', 'tool_calls': [{'id': 'fc_809621ff-ed04-46b0-820c-213247b04538', 'function': {'arguments': '{\"query\":\"AI City India planned location AI City project India\"}', 'name': 'tavily_search_results_json'}, 'type': 'function'}]}, response_metadata={'token_usage': {'completion_tokens': 112, 'prompt_tokens': 246, 'total_tokens': 358, 'completion_time': 0.222527718, 'prompt_time': 0.009271765, 'queue_time': 0.051273073, 'total_time': 0.231799483}, 'model_name': 'openai/gpt-oss-120b', 'system_fingerprint': 'fp_e10890e4b9', 'service_tier': 'on_demand', 'finish_reason': 'tool_calls', 'logprobs': None}, id='run--4b49f703-19db-49af-9847-982eeafd85de-0', tool_calls=[{'name': 'tavily_search_results_json', 'args': {'query': 'AI City India planned location AI City project India'}, 'id': 'fc_809621ff-ed04-46b0-820c-213247b04538', 'type': 'tool_call'}], usage_metadata={'input_tokens': 246, 'output_tokens': 112, 'total_tokens': 358})]}"
      ]
     },
     "execution_count": 9,
     "metadata": {},
     "output_type": "execute_result"
    }
   ],
   "source": [
    "config = {\n",
    "    \"configurable\":{\n",
    "        \"thread_id\": 5\n",
    "    }\n",
    "}\n",
    "\n",
    "response = await graph.ainvoke({\n",
    "    \"messages\":[HumanMessage(content=\"Where is AI city is going to built in India?\")],\n",
    "    \n",
    "}, config=config)\n",
    "\n",
    "response"
   ]
  },
  {
   "cell_type": "code",
   "execution_count": null,
   "id": "23e0a108",
   "metadata": {},
   "outputs": [],
   "source": []
  }
 ],
 "metadata": {
  "kernelspec": {
   "display_name": "venv",
   "language": "python",
   "name": "python3"
  },
  "language_info": {
   "codemirror_mode": {
    "name": "ipython",
    "version": 3
   },
   "file_extension": ".py",
   "mimetype": "text/x-python",
   "name": "python",
   "nbconvert_exporter": "python",
   "pygments_lexer": "ipython3",
   "version": "3.13.5"
  }
 },
 "nbformat": 4,
 "nbformat_minor": 5
}
