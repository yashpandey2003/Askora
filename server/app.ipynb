{
 "cells": [
  {
   "cell_type": "code",
   "execution_count": 1,
   "id": "71dd8d82",
   "metadata": {},
   "outputs": [],
   "source": [
    "from typing import TypedDict, Annotated, Optional\n",
    "from langgraph.graph import add_messages, StateGraph, END\n",
    "from langchain_groq import ChatGroq\n",
    "from dotenv import load_dotenv\n",
    "from langchain_community.tools.tavily_search import TavilySearchResults\n",
    "from langgraph.checkpoint.memory import MemorySaver\n",
    "from uuid import uuid4\n"
   ]
  },
  {
   "cell_type": "code",
   "execution_count": 2,
   "id": "1a0d62cf",
   "metadata": {},
   "outputs": [],
   "source": [
    "load_dotenv()\n",
    "llm = ChatGroq(model=\"openai/gpt-oss-120b\")"
   ]
  },
  {
   "cell_type": "code",
   "execution_count": 5,
   "id": "b58a080a",
   "metadata": {},
   "outputs": [],
   "source": [
    "search_tool = TavilySearchResults(max_results=4)\n",
    "tools = [search_tool]\n",
    "\n",
    "memory = MemorySaver()\n",
    "\n",
    "llm_with_tools = llm.bind_tools(tools = tools)\n"
   ]
  },
  {
   "cell_type": "code",
   "execution_count": 10,
   "id": "dc219dc3",
   "metadata": {},
   "outputs": [],
   "source": [
    "from langchain_core.messages import AIMessage, HumanMessage, ToolMessage\n",
    "\n",
    "class State(TypedDict):\n",
    "    messages: Annotated[list, add_messages]\n",
    "\n",
    "async def model(state: State):\n",
    "    result = await llm_with_tools.ainvoke(state[\"messages\"])\n",
    "    return{\n",
    "        \"messages\":[result],\n",
    "    }\n",
    "\n",
    "async def tools_router(state: State):\n",
    "    last_message = state[\"messages\"][-1]\n",
    "\n",
    "    if(hasattr(last_message, \"tools_calls\") and len(last_message.tool_calls)>0):\n",
    "        return \"tool_node\"\n",
    "    else:\n",
    "        return END\n",
    "\n",
    "async def tool_node(state):\n",
    "    \"\"\"Custom tool node that handles tool calls from the LLM.\"\"\"\n",
    "\n",
    "    tool_calls = state[\"messages\"][-1].tool_calls\n",
    "\n",
    "    tool_messages = []\n",
    "    for tool_call in tool_calls:\n",
    "        tool_name = tool_call[\"name\"]\n",
    "        tool_args = tool_call[\"args\"]\n",
    "        tool_id = tool_call[\"id\"]\n",
    "\n",
    "        if tool_name==\"tavily_search_results_json\":\n",
    "            search_results = await search_tool.ainvoke(tool_args)\n",
    "\n",
    "            tool_message = ToolMessage(\n",
    "                content = str(search_results),\n",
    "                tool_call_id = tool_id,\n",
    "                name = tool_name\n",
    "            )\n",
    "            tool_messages.append(tool_message)\n",
    "\n",
    "    return {\"messages\": tool_messages}\n",
    "\n",
    "\n",
    "graph_builder = StateGraph(State)\n",
    "graph_builder.add_node(\"model\", model)\n",
    "graph_builder.add_node(\"tool_node\", tool_node)\n",
    "graph_builder.set_entry_point(\"model\")\n",
    "\n",
    "graph_builder.add_conditional_edges(\"model\", tools_router)\n",
    "graph_builder.add_edge(\"tool_node\", \"model\")\n",
    "\n",
    "graph = graph_builder.compile(checkpointer=memory)\n",
    "\n",
    "\n",
    "\n"
   ]
  },
  {
   "cell_type": "code",
   "execution_count": 11,
   "id": "50086cca",
   "metadata": {},
   "outputs": [
    {
     "data": {
      "image/png": "[encoded data removed]",
      "text/plain": [
       "<IPython.core.display.Image object>"
      ]
     },
     "metadata": {},
     "output_type": "display_data"
    }
   ],
   "source": [
    "from IPython.display import Image, display\n",
    "from langchain_core.runnables.graph import MermaidDrawMethod\n",
    "\n",
    "display(\n",
    "    Image(\n",
    "        graph.get_graph().draw_mermaid_png(\n",
    "            draw_method=MermaidDrawMethod.API\n",
    "        )\n",
    "    )\n",
    ")"
   ]
  },
  {
   "cell_type": "code",
   "execution_count": 12,
   "id": "a32747ea",
   "metadata": {},
   "outputs": [
    {
     "data": {
      "text/plain": [
       "{'messages': [HumanMessage(content='Hi how are you doing?', additional_kwargs={}, response_metadata={}, id='970e220e-c589-4a1a-841c-117084920976'),\n",
       "  HumanMessage(content='Hi how are you doing?', additional_kwargs={}, response_metadata={}, id='f8495b2a-58b7-4aa8-8e01-7e73883c234e'),\n",
       "  AIMessage(content='Hello! I’m doing great, thanks for asking. How can I assist you today?', additional_kwargs={'reasoning_content': 'The user just says \"Hi how are you doing?\" It\\'s a greeting. Should respond politely. No need for tool.'}, response_metadata={'token_usage': {'completion_tokens': 52, 'prompt_tokens': 170, 'total_tokens': 222, 'completion_time': 0.108635128, 'prompt_time': 0.007298314, 'queue_time': 0.045720696, 'total_time': 0.115933442}, 'model_name': 'openai/gpt-oss-120b', 'system_fingerprint': 'fp_ed9190d8b7', 'service_tier': 'on_demand', 'finish_reason': 'stop', 'logprobs': None}, id='run--80590c95-9434-4d38-8505-7cb97aec7151-0', usage_metadata={'input_tokens': 170, 'output_tokens': 52, 'total_tokens': 222})]}"
      ]
     },
     "execution_count": 12,
     "metadata": {},
     "output_type": "execute_result"
    }
   ],
   "source": [
    "config = {\n",
    "    \"configurable\":{\n",
    "        \"thread_id\": 5\n",
    "    }\n",
    "}\n",
    "\n",
    "response = await graph.ainvoke({\n",
    "    \"messages\":[HumanMessage(content=\"Hi how are you doing?\")],\n",
    "    \n",
    "}, config=config)\n",
    "\n",
    "response"
   ]
  },
  {
   "cell_type": "code",
   "execution_count": null,
   "id": "23e0a108",
   "metadata": {},
   "outputs": [],
   "source": []
  }
 ],
 "metadata": {
  "kernelspec": {
   "display_name": "venv",
   "language": "python",
   "name": "python3"
  },
  "language_info": {
   "codemirror_mode": {
    "name": "ipython",
    "version": 3
   },
   "file_extension": ".py",
   "mimetype": "text/x-python",
   "name": "python",
   "nbconvert_exporter": "python",
   "pygments_lexer": "ipython3",
   "version": "3.13.5"
  }
 },
 "nbformat": 4,
 "nbformat_minor": 5
}
